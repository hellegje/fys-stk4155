{
 "cells": [
  {
   "cell_type": "markdown",
   "metadata": {},
   "source": [
    "# Project 3\n",
    "\n",
    "I have analysed and tested the data before. Now, I want to try importing a data set on GHG levels in the atmosphere, and temperatures, and use these in the feature matrix together with the em-dat features. I think, in order to make predictions, something like this will have to be done:\n",
    "\n",
    "## Option 1\n",
    "- Train with all features\n",
    "- Create a sub-model for prediction, where I extract the weights and biases for the features I wish to use in prediction\n",
    "\n",
    "## Option 2\n",
    "- Train only on the features to be used in prediction\n",
    "\n",
    "## Use random forests or whatever (2 steps from lectures)\n",
    "I need to use enough of whatever methods are mentioned in lectures\n",
    "\n",
    "### TODO:\n",
    "- Cost needs to be adjusted for inflation before anything else is done\n",
    "- Add co2 and/or temp if I can be bothered. Need to match year and place with the disaster data \n"
   ]
  },
  {
   "cell_type": "markdown",
   "metadata": {},
   "source": [
    "## Solution"
   ]
  },
  {
   "cell_type": "markdown",
   "metadata": {},
   "source": [
    "Set up data holder class:"
   ]
  },
  {
   "cell_type": "code",
   "execution_count": 67,
   "metadata": {},
   "outputs": [],
   "source": [
    "import os\n",
    "import torch\n",
    "import pandas as pd\n",
    "import matplotlib.pyplot as plt\n",
    "import seaborn as sns\n",
    "import torch.nn as nn\n",
    "import torch.optim as optim\n",
    "from sklearn.preprocessing import LabelEncoder\n",
    "from sklearn.model_selection import train_test_split\n",
    "from collections import namedtuple\n",
    "\n",
    "# Create data class\n",
    "class data_holder():\n",
    "    def __init__(self, data_path):\n",
    "        self.data = pd.read_csv(data_path)\n",
    "        self.df = self.data.copy()\n",
    "\n",
    "    def filter_columns(self, columns_to_keep):\n",
    "        self.data = self.data[columns_to_keep]\n",
    "\n",
    "    def remove_rows_where_null(self, remove_null_rows_in_column):\n",
    "        self.data = self.data.dropna(subset = remove_null_rows_in_column)\n",
    "\n",
    "    def replace_nan_with_zero(self, replace_nan_in_columns):\n",
    "        self.data[replace_nan_in_columns] = self.data[replace_nan_in_columns].fillna(0)\n",
    "\n",
    "    def filter_values(self, column, values):\n",
    "        self.data = self.data[self.data[column].isin(values)]\n",
    "\n",
    "    def map_categories_to_numbers(self, column):\n",
    "        label_encoder = LabelEncoder()\n",
    "\n",
    "        self.data[column] = label_encoder.fit_transform(self.data[column])\n",
    "        category_mapping = dict(zip(label_encoder.classes_, label_encoder.transform(label_encoder.classes_)))\n",
    "        print(\"Category Mapping:\", category_mapping)\n",
    "\n",
    "    def split_train_test(self, target_column):\n",
    "        self.target = target_column\n",
    "        feature_columns = self.data.columns.drop([target_column])\n",
    "\n",
    "        self.X = self.data[feature_columns]\n",
    "        self.y = self.data[target_column]\n",
    "\n",
    "        self.X_train, self.X_test, self.y_train, self.y_test = train_test_split(\n",
    "        self.X, self.y , random_state=104,test_size=0.20, shuffle=True)\n",
    "\n",
    "        return self.X_train, self.X_test, self.y_train, self.y_test\n",
    "    \n",
    "    def scale(self, scaler):\n",
    "        # if self.target is None:\n",
    "        #     raise ValueError(\"Target column needs to be set in split_train_test() before scaling data\")\n",
    "\n",
    "        # X = self.data.drop(columns=[self.target])  # Features\n",
    "        # y = self.data[self.target]  # Target\n",
    "\n",
    "        # Training set\n",
    "        X_train_scaled = scaler.fit_transform(self.X_train)\n",
    "        y_train_scaled = scaler.fit_transform(self.y_train.values.reshape(-1, 1))\n",
    "\n",
    "        # Test set\n",
    "        X_test_scaled = scaler.fit_transform(self.X_test)\n",
    "        y_test_scaled = scaler.fit_transform(self.y_test.values.reshape(-1, 1))\n",
    "\n",
    "        #From chatgpt:\n",
    "        # Optional: Convert back to DataFrame for easier handling (if needed)\n",
    "        # X_scaled_df = pd.DataFrame(X_scaled, columns=X.columns)\n",
    "\n",
    "        # # Recombine scaled features with the target for further processing\n",
    "        # scaled_data = pd.concat([X_scaled_df, y.reset_index(drop=True)], axis=1)\n",
    "\n",
    "        return X_train_scaled, y_train_scaled, X_test_scaled, y_test_scaled\n",
    "\n",
    "        \n"
   ]
  },
  {
   "cell_type": "markdown",
   "metadata": {},
   "source": [
    "Then clean the data:"
   ]
  },
  {
   "cell_type": "code",
   "execution_count": 68,
   "metadata": {},
   "outputs": [
    {
     "name": "stdout",
     "output_type": "stream",
     "text": [
      "Category Mapping: {'Climatological': 0, 'Hydrological': 1, 'Meteorological': 2}\n"
     ]
    }
   ],
   "source": [
    "disasters = data_holder('./DISASTERS/1900_2021_DISASTERS.xlsx - emdat data.csv')\n",
    "\n",
    "columns_of_interest = [ \"Year\", \"Aid Contribution\", \"No Injured\", \"No Homeless\", \"Total Affected\", \"CPI\", \"Total Damages ('000 US$)\", \"Disaster Subgroup\", \"Insured Damages ('000 US$)\"]\n",
    "zero_where_null_columns = [\"Aid Contribution\", \"No Injured\", \"No Homeless\", \"Total Affected\", \"Disaster Subgroup\"]\n",
    "remove_where_null_columns = [\"CPI\", \"Total Damages ('000 US$)\", \"Insured Damages ('000 US$)\"]\n",
    "disaster_subgroups = [ \"Meteorological\", \"Hydrological\", \"Climatological\"]\n",
    "\n",
    "#Clean data\n",
    "disasters.filter_columns(columns_of_interest)\n",
    "disasters.remove_rows_where_null(remove_where_null_columns)\n",
    "\n",
    "disasters.replace_nan_with_zero(zero_where_null_columns)\n",
    "\n",
    "disasters.filter_values('Disaster Subgroup', disaster_subgroups)\n",
    "\n",
    "#Turn category-values into numerical values\n",
    "disasters.map_categories_to_numbers(\"Disaster Subgroup\")"
   ]
  },
  {
   "cell_type": "markdown",
   "metadata": {},
   "source": [
    "Get the shape of the feature matrix to prepare for model input:"
   ]
  },
  {
   "cell_type": "code",
   "execution_count": 50,
   "metadata": {},
   "outputs": [
    {
     "name": "stdout",
     "output_type": "stream",
     "text": [
      "Shape of data set after cleaning:\n",
      "(808, 9)\n"
     ]
    },
    {
     "data": {
      "text/html": [
       "<div>\n",
       "<style scoped>\n",
       "    .dataframe tbody tr th:only-of-type {\n",
       "        vertical-align: middle;\n",
       "    }\n",
       "\n",
       "    .dataframe tbody tr th {\n",
       "        vertical-align: top;\n",
       "    }\n",
       "\n",
       "    .dataframe thead th {\n",
       "        text-align: right;\n",
       "    }\n",
       "</style>\n",
       "<table border=\"1\" class=\"dataframe\">\n",
       "  <thead>\n",
       "    <tr style=\"text-align: right;\">\n",
       "      <th></th>\n",
       "      <th>Year</th>\n",
       "      <th>Aid Contribution</th>\n",
       "      <th>No Injured</th>\n",
       "      <th>No Homeless</th>\n",
       "      <th>Total Affected</th>\n",
       "      <th>CPI</th>\n",
       "      <th>Total Damages ('000 US$)</th>\n",
       "      <th>Disaster Subgroup</th>\n",
       "      <th>Insured Damages ('000 US$)</th>\n",
       "    </tr>\n",
       "  </thead>\n",
       "  <tbody>\n",
       "    <tr>\n",
       "      <th>2300</th>\n",
       "      <td>1984</td>\n",
       "      <td>0.0</td>\n",
       "      <td>250.0</td>\n",
       "      <td>0.0</td>\n",
       "      <td>250.0</td>\n",
       "      <td>40.138660</td>\n",
       "      <td>950000.0</td>\n",
       "      <td>2</td>\n",
       "      <td>480000.0</td>\n",
       "    </tr>\n",
       "    <tr>\n",
       "      <th>2364</th>\n",
       "      <td>1985</td>\n",
       "      <td>0.0</td>\n",
       "      <td>0.0</td>\n",
       "      <td>0.0</td>\n",
       "      <td>0.0</td>\n",
       "      <td>41.561827</td>\n",
       "      <td>122000.0</td>\n",
       "      <td>2</td>\n",
       "      <td>68400.0</td>\n",
       "    </tr>\n",
       "    <tr>\n",
       "      <th>2387</th>\n",
       "      <td>1985</td>\n",
       "      <td>0.0</td>\n",
       "      <td>200.0</td>\n",
       "      <td>800.0</td>\n",
       "      <td>1000.0</td>\n",
       "      <td>41.561827</td>\n",
       "      <td>117000.0</td>\n",
       "      <td>2</td>\n",
       "      <td>89500.0</td>\n",
       "    </tr>\n",
       "    <tr>\n",
       "      <th>2423</th>\n",
       "      <td>1985</td>\n",
       "      <td>0.0</td>\n",
       "      <td>0.0</td>\n",
       "      <td>0.0</td>\n",
       "      <td>100000.0</td>\n",
       "      <td>41.561827</td>\n",
       "      <td>73000.0</td>\n",
       "      <td>2</td>\n",
       "      <td>68400.0</td>\n",
       "    </tr>\n",
       "    <tr>\n",
       "      <th>2462</th>\n",
       "      <td>1986</td>\n",
       "      <td>0.0</td>\n",
       "      <td>0.0</td>\n",
       "      <td>0.0</td>\n",
       "      <td>0.0</td>\n",
       "      <td>42.350699</td>\n",
       "      <td>105000.0</td>\n",
       "      <td>2</td>\n",
       "      <td>82300.0</td>\n",
       "    </tr>\n",
       "  </tbody>\n",
       "</table>\n",
       "</div>"
      ],
      "text/plain": [
       "      Year  Aid Contribution  No Injured  No Homeless  Total Affected  \\\n",
       "2300  1984               0.0       250.0          0.0           250.0   \n",
       "2364  1985               0.0         0.0          0.0             0.0   \n",
       "2387  1985               0.0       200.0        800.0          1000.0   \n",
       "2423  1985               0.0         0.0          0.0        100000.0   \n",
       "2462  1986               0.0         0.0          0.0             0.0   \n",
       "\n",
       "            CPI  Total Damages ('000 US$)  Disaster Subgroup  \\\n",
       "2300  40.138660                  950000.0                  2   \n",
       "2364  41.561827                  122000.0                  2   \n",
       "2387  41.561827                  117000.0                  2   \n",
       "2423  41.561827                   73000.0                  2   \n",
       "2462  42.350699                  105000.0                  2   \n",
       "\n",
       "      Insured Damages ('000 US$)  \n",
       "2300                    480000.0  \n",
       "2364                     68400.0  \n",
       "2387                     89500.0  \n",
       "2423                     68400.0  \n",
       "2462                     82300.0  "
      ]
     },
     "execution_count": 50,
     "metadata": {},
     "output_type": "execute_result"
    }
   ],
   "source": [
    "print(\"Shape of data set after cleaning:\")\n",
    "print(disasters.data.shape)\n",
    "\n",
    "disasters.data.head()"
   ]
  },
  {
   "cell_type": "markdown",
   "metadata": {},
   "source": [
    "Split into training and test data:"
   ]
  },
  {
   "cell_type": "code",
   "execution_count": 69,
   "metadata": {},
   "outputs": [],
   "source": [
    "target = \"Total Damages ('000 US$)\"\n",
    "X_train, X_test, y_train, y_test = disasters.split_train_test(target)"
   ]
  },
  {
   "cell_type": "code",
   "execution_count": null,
   "metadata": {},
   "outputs": [],
   "source": [
    "# Check the data types of X_train and X_test\n",
    "print(\"Data types of X_train columns:\")\n",
    "print(X_train.dtypes)\n",
    "print()\n",
    "\n",
    "print(\"Data types of X_test columns:\")\n",
    "print(X_test.dtypes)"
   ]
  },
  {
   "cell_type": "markdown",
   "metadata": {},
   "source": [
    "Scale the data:"
   ]
  },
  {
   "cell_type": "code",
   "execution_count": 72,
   "metadata": {},
   "outputs": [
    {
     "name": "stdout",
     "output_type": "stream",
     "text": [
      "[-0.70746182 -0.07841102  0.34436936 -0.0451302   0.60526691 -0.77430789\n",
      "  0.62921708 -0.23137304]\n"
     ]
    }
   ],
   "source": [
    "from sklearn.preprocessing import StandardScaler\n",
    "\n",
    "scaler = StandardScaler()\n",
    "X_train_scaled, y_train_scaled, X_test_scaled, y_test_scaled = disasters.scale(scaler)"
   ]
  },
  {
   "cell_type": "markdown",
   "metadata": {},
   "source": [
    "Create tensors:"
   ]
  },
  {
   "cell_type": "code",
   "execution_count": 73,
   "metadata": {},
   "outputs": [],
   "source": [
    "X_train_tensor = torch.tensor(X_train_scaled, dtype=torch.float32)\n",
    "y_train_tensor = torch.tensor(y_train_scaled, dtype=torch.float32).reshape(-1, 1)\n",
    "X_test_tensor = torch.tensor(X_test_scaled, dtype=torch.float32)\n",
    "y_test_tensor = torch.tensor(y_test_scaled, dtype=torch.float32).reshape(-1, 1)"
   ]
  },
  {
   "cell_type": "markdown",
   "metadata": {},
   "source": [
    "Create model:"
   ]
  },
  {
   "cell_type": "code",
   "execution_count": 74,
   "metadata": {},
   "outputs": [],
   "source": [
    "# Define the model - for now, the input has 44 feature columns\n",
    "model = nn.Sequential(\n",
    "    nn.Linear(8, 6),\n",
    "    nn.ReLU(),\n",
    "    nn.Linear(6, 1)\n",
    ")\n",
    "\n",
    "# loss function and optimizer\n",
    "loss_fn = nn.MSELoss()  # mean square error\n",
    "optimizer = optim.Adam(model.parameters(), lr=0.0001)"
   ]
  },
  {
   "cell_type": "markdown",
   "metadata": {},
   "source": [
    "Train model:"
   ]
  },
  {
   "cell_type": "code",
   "execution_count": 75,
   "metadata": {},
   "outputs": [
    {
     "name": "stderr",
     "output_type": "stream",
     "text": [
      "0.00s - Debugger warning: It seems that frozen modules are being used, which may\n",
      "0.00s - make the debugger miss breakpoints. Please pass -Xfrozen_modules=off\n",
      "0.00s - to python to disable frozen modules.\n",
      "0.00s - Note: Debugging will proceed. Set PYDEVD_DISABLE_FILE_VALIDATION=1 to disable this validation.\n"
     ]
    },
    {
     "data": {
      "text/plain": [
       "<All keys matched successfully>"
      ]
     },
     "execution_count": 75,
     "metadata": {},
     "output_type": "execute_result"
    }
   ],
   "source": [
    "#From https://machinelearningmastery.com/building-a-regression-model-in-pytorch/\n",
    "import numpy as np\n",
    "import torch\n",
    "import tqdm\n",
    "import copy\n",
    "from sklearn.model_selection import train_test_split\n",
    "\n",
    "# training parameters\n",
    "n_epochs = 100   # number of epochs to run\n",
    "batch_size = 10  # size of each batch\n",
    "batch_start = torch.arange(0, len(X_train_tensor), batch_size)\n",
    " \n",
    "# Hold the best model\n",
    "best_mse = np.inf   # init to infinity\n",
    "best_weights = None\n",
    "history = []\n",
    " \n",
    "# training loop\n",
    "for epoch in range(n_epochs):\n",
    "    model.train()\n",
    "    with tqdm.tqdm(batch_start, unit=\"batch\", mininterval=0, disable=True) as bar:\n",
    "        bar.set_description(f\"Epoch {epoch}\")\n",
    "        for start in bar:\n",
    "            # take a batch\n",
    "            X_batch = X_train_tensor[start:start+batch_size]\n",
    "            y_batch = y_train_tensor[start:start+batch_size]\n",
    "            # forward pass\n",
    "            y_pred = model(X_batch)\n",
    "            loss = loss_fn(y_pred, y_batch)\n",
    "            # backward pass\n",
    "            optimizer.zero_grad()\n",
    "            loss.backward()\n",
    "            # update weights\n",
    "            optimizer.step()\n",
    "            # print progress\n",
    "            bar.set_postfix(mse=float(loss))\n",
    "    # evaluate accuracy at end of each epoch\n",
    "    model.eval()\n",
    "    y_pred = model(X_test_tensor)\n",
    "    mse = loss_fn(y_pred, y_test_tensor)\n",
    "    mse = float(mse)\n",
    "    history.append(mse)\n",
    "    if mse < best_mse:\n",
    "        best_mse = mse\n",
    "        best_weights = copy.deepcopy(model.state_dict())\n",
    " \n",
    "# restore model and return best accuracy\n",
    "model.load_state_dict(best_weights)"
   ]
  },
  {
   "cell_type": "code",
   "execution_count": 76,
   "metadata": {},
   "outputs": [
    {
     "name": "stdout",
     "output_type": "stream",
     "text": [
      "MSE: 0.51\n",
      "RMSE: 0.72\n"
     ]
    },
    {
     "data": {
      "image/png": "[encoded data removed]",
      "text/plain": [
       "<Figure size 640x480 with 1 Axes>"
      ]
     },
     "metadata": {},
     "output_type": "display_data"
    }
   ],
   "source": [
    "print(\"MSE: %.2f\" % best_mse)\n",
    "print(\"RMSE: %.2f\" % np.sqrt(best_mse))\n",
    "plt.title(\"Errors vs. Epochs\")\n",
    "plt.xlabel(\"Epochs\")\n",
    "plt.ylabel(\"Error\")\n",
    "plt.plot(history)\n",
    "plt.show()"
   ]
  }
 ],
 "metadata": {
  "kernelspec": {
   "display_name": "base",
   "language": "python",
   "name": "python3"
  },
  "language_info": {
   "codemirror_mode": {
    "name": "ipython",
    "version": 3
   },
   "file_extension": ".py",
   "mimetype": "text/x-python",
   "name": "python",
   "nbconvert_exporter": "python",
   "pygments_lexer": "ipython3",
   "version": "3.12.2"
  }
 },
 "nbformat": 4,
 "nbformat_minor": 2
}
