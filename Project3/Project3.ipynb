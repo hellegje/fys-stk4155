{
 "cells": [
  {
   "cell_type": "markdown",
   "metadata": {},
   "source": [
    "# Project 3\n",
    "\n",
    "I have analysed and tested the data before. Now, I want to try importing a data set on GHG levels in the atmosphere, and temperatures, and use these in the feature matrix together with the em-dat features. I think, in order to make predictions, something like this will have to be done:\n",
    "\n",
    "## Option 1\n",
    "- Train with all features\n",
    "- Create a sub-model for prediction, where I extract the weights and biases for the features I wish to use in prediction\n",
    "\n",
    "## Option 2\n",
    "- Train only on the features to be used in prediction\n",
    "\n",
    "## Use random forests or whatever (2 steps from lectures)\n",
    "I need to use enough of whatever methods are mentioned in lectures\n"
   ]
  },
  {
   "cell_type": "code",
   "execution_count": 1,
   "metadata": {},
   "outputs": [],
   "source": [
    "import pandas as pd\n",
    "from collections import namedtuple\n",
    "import matplotlib.pyplot as plt\n",
    "import seaborn as sns\n",
    "import pandas as pd\n",
    "import os\n",
    "\n",
    "class data_holder():\n",
    "    def __init__(self, data_path):\n",
    "        self.data = pd.read_csv(data_path)\n",
    "        self.df = self.data.copy()"
   ]
  }
 ],
 "metadata": {
  "kernelspec": {
   "display_name": "base",
   "language": "python",
   "name": "python3"
  },
  "language_info": {
   "codemirror_mode": {
    "name": "ipython",
    "version": 3
   },
   "file_extension": ".py",
   "mimetype": "text/x-python",
   "name": "python",
   "nbconvert_exporter": "python",
   "pygments_lexer": "ipython3",
   "version": "3.12.2"
  }
 },
 "nbformat": 4,
 "nbformat_minor": 2
}
